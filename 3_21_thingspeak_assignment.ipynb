{
  "nbformat": 4,
  "nbformat_minor": 0,
  "metadata": {
    "colab": {
      "provenance": [],
      "authorship_tag": "ABX9TyN6Sm5Hl20m7/QgM3kh1GBp",
      "include_colab_link": true
    },
    "kernelspec": {
      "name": "python3",
      "display_name": "Python 3"
    },
    "language_info": {
      "name": "python"
    }
  },
  "cells": [
    {
      "cell_type": "markdown",
      "metadata": {
        "id": "view-in-github",
        "colab_type": "text"
      },
      "source": [
        "<a href=\"https://colab.research.google.com/github/seoyeon2403104/1-/blob/main/3_21_thingspeak_assignment.ipynb\" target=\"_parent\"><img src=\"https://colab.research.google.com/assets/colab-badge.svg\" alt=\"Open In Colab\"/></a>"
      ]
    },
    {
      "cell_type": "code",
      "execution_count": 1,
      "metadata": {
        "colab": {
          "base_uri": "https://localhost:8080/"
        },
        "id": "-RW0lID5J0HH",
        "outputId": "10c06eb7-91ee-49cf-8c1f-3d57b7c114b5"
      },
      "outputs": [
        {
          "output_type": "stream",
          "name": "stdout",
          "text": [
            "2\n"
          ]
        }
      ],
      "source": [
        "import requests\n",
        "r = requests.get('https://api.thingspeak.com/update?api_key=FS56WYHJ3JA4WOEY&field1=3')\n",
        "print(r.text)"
      ]
    },
    {
      "cell_type": "code",
      "source": [
        "import time\n",
        "values=[13,33,38,83,36,88,93]\n",
        "for v in values:\n",
        "  r = requests.get(f'https://api.thingspeak.com/update?api_key=FS56WYHJ3JA4WOEY&field1={v}')\n",
        "  print(r.text)\n",
        "  time.sleep(20)\n",
        "print('done')"
      ],
      "metadata": {
        "colab": {
          "base_uri": "https://localhost:8080/"
        },
        "id": "1yJyJtoEKMPL",
        "outputId": "f583479e-e4b3-4cb0-dedb-b71cee361019"
      },
      "execution_count": 3,
      "outputs": [
        {
          "output_type": "stream",
          "name": "stdout",
          "text": [
            "5\n",
            "6\n",
            "7\n",
            "8\n",
            "9\n",
            "10\n",
            "11\n",
            "done\n"
          ]
        }
      ]
    },
    {
      "cell_type": "code",
      "source": [
        "import time\n",
        "import random\n",
        "\n",
        "for i in range(6):\n",
        "  v = random.randint(0,100)\n",
        "  r=requests.get(f'https://api.thingspeak.com/update?api_key=FS56WYHJ3JA4WOEY&field1={v}')\n",
        "  print(r.text)\n",
        "  time.sleep(20)\n",
        "print('done')"
      ],
      "metadata": {
        "colab": {
          "base_uri": "https://localhost:8080/"
        },
        "id": "B2OTNZ9MKucU",
        "outputId": "5e10a53b-717d-4f91-e26d-d458401e8e53"
      },
      "execution_count": 5,
      "outputs": [
        {
          "output_type": "stream",
          "name": "stdout",
          "text": [
            "0\n",
            "13\n",
            "14\n",
            "15\n",
            "16\n",
            "17\n",
            "done\n"
          ]
        }
      ]
    },
    {
      "cell_type": "code",
      "source": [
        "print ('학번=',2403104,'이름=','안서연')"
      ],
      "metadata": {
        "colab": {
          "base_uri": "https://localhost:8080/"
        },
        "id": "qdTeClcgMK71",
        "outputId": "52e67880-8f13-4221-f054-056f76e347bc"
      },
      "execution_count": 6,
      "outputs": [
        {
          "output_type": "stream",
          "name": "stdout",
          "text": [
            "학번= 2403104 이름= 안서연\n"
          ]
        }
      ]
    }
  ]
}