{
  "nbformat": 4,
  "nbformat_minor": 0,
  "metadata": {
    "colab": {
      "provenance": [],
      "authorship_tag": "ABX9TyO+b2wzNE1xm4ej3pjpAHLi",
      "include_colab_link": true
    },
    "kernelspec": {
      "name": "python3",
      "display_name": "Python 3"
    },
    "language_info": {
      "name": "python"
    }
  },
  "cells": [
    {
      "cell_type": "markdown",
      "metadata": {
        "id": "view-in-github",
        "colab_type": "text"
      },
      "source": [
        "<a href=\"https://colab.research.google.com/github/seoyeon2403104/1-/blob/main/3_18_assignment_criminal.ipynb\" target=\"_parent\"><img src=\"https://colab.research.google.com/assets/colab-badge.svg\" alt=\"Open In Colab\"/></a>"
      ]
    },
    {
      "cell_type": "code",
      "execution_count": null,
      "metadata": {
        "id": "1fJ_B-7nUNyD",
        "colab": {
          "base_uri": "https://localhost:8080/"
        },
        "outputId": "55c238c9-93c3-4526-a10d-624e055eabc6"
      },
      "outputs": [
        {
          "output_type": "stream",
          "name": "stdout",
          "text": [
            "<?xml version=\"1.0\" encoding=\"UTF-8\"?><response>\n",
            "  <header>\n",
            "    <resultCode>00</resultCode>\n",
            "    <resultMsg>NORMAL_CODE</resultMsg>\n",
            "  </header>\n",
            "  <body>\n",
            "    <items>\n",
            "      <item>\n",
            "        <yy>2018</yy>\n",
            "        <tot_popltn>227837</tot_popltn>\n",
            "        <polcsttn_nm>창원중부</polcsttn_nm>\n",
            "        <five_main_crmnl_occrrnc_cnt>2443</five_main_crmnl_occrrnc_cnt>\n",
            "        <theft_arrest_cnt>651</theft_arrest_cnt>\n",
            "        <murder_occrrnc_cnt>3</murder_occrrnc_cnt>\n",
            "        <brglr_occrrnc_cnt>10</brglr_occrrnc_cnt>\n",
            "        <violnc_arrest_cnt>1259</violnc_arrest_cnt>\n",
            "        <brglr_arrest_cnt>10</brglr_arrest_cnt>\n",
            "        <murder_arrest_cnt>3</murder_arrest_cnt>\n",
            "        <rape_arrest_cnt>77</rape_arrest_cnt>\n",
            "        <theft_occrrnc_cnt>965</theft_occrrnc_cnt>\n",
            "        <violnc_occrrnc_cnt>1380</violnc_occrrnc_cnt>\n",
            "        <five_main_crmnl_arrest_cnt>2000</five_main_crmnl_arrest_cnt>\n",
            "        <rape_occrrnc_cnr>85</rape_occrrnc_cnr>\n",
            "        <polc_nmpr>448</polc_nmpr>\n",
            "        <skey>1</skey>\n",
            "      </item>\n",
            "      <item>\n",
            "        <yy>2018</yy>\n",
            "        <tot_popltn>253540</tot_popltn>\n",
            "        <polcsttn_nm>창원서부</polcsttn_nm>\n",
            "        <five_main_crmnl_occrrnc_cnt>1779</five_main_crmnl_occrrnc_cnt>\n",
            "        <theft_arrest_cnt>468</theft_arrest_cnt>\n",
            "        <murder_occrrnc_cnt>1</murder_occrrnc_cnt>\n",
            "        <brglr_occrrnc_cnt>4</brglr_occrrnc_cnt>\n",
            "        <violnc_arrest_cnt>878</violnc_arrest_cnt>\n",
            "        <brglr_arrest_cnt>4</brglr_arrest_cnt>\n",
            "        <murder_arrest_cnt>1</murder_arrest_cnt>\n",
            "        <rape_arrest_cnt>50</rape_arrest_cnt>\n",
            "        <theft_occrrnc_cnt>696</theft_occrrnc_cnt>\n",
            "        <violnc_occrrnc_cnt>1021</violnc_occrrnc_cnt>\n",
            "        <five_main_crmnl_arrest_cnt>1401</five_main_crmnl_arrest_cnt>\n",
            "        <rape_occrrnc_cnr>57</rape_occrrnc_cnr>\n",
            "        <polc_nmpr>320</polc_nmpr>\n",
            "        <skey>2</skey>\n",
            "      </item>\n",
            "      <item>\n",
            "        <yy>2018</yy>\n",
            "        <tot_popltn>181437</tot_popltn>\n",
            "        <polcsttn_nm>마산중부</polcsttn_nm>\n",
            "        <five_main_crmnl_occrrnc_cnt>1506</five_main_crmnl_occrrnc_cnt>\n",
            "        <theft_arrest_cnt>405</theft_arrest_cnt>\n",
            "        <murder_occrrnc_cnt>12</murder_occrrnc_cnt>\n",
            "        <brglr_occrrnc_cnt>3</brglr_occrrnc_cnt>\n",
            "        <violnc_arrest_cnt>835</violnc_arrest_cnt>\n",
            "        <brglr_arrest_cnt>3</brglr_arrest_cnt>\n",
            "        <murder_arrest_cnt>12</murder_arrest_cnt>\n",
            "        <rape_arrest_cnt>47</rape_arrest_cnt>\n",
            "        <theft_occrrnc_cnt>529</theft_occrrnc_cnt>\n",
            "        <violnc_occrrnc_cnt>908</violnc_occrrnc_cnt>\n",
            "        <five_main_crmnl_arrest_cnt>1302</five_main_crmnl_arrest_cnt>\n",
            "        <rape_occrrnc_cnr>54</rape_occrrnc_cnr>\n",
            "        <polc_nmpr>287</polc_nmpr>\n",
            "        <skey>3</skey>\n",
            "      </item>\n",
            "      <item>\n",
            "        <yy>2018</yy>\n",
            "        <tot_popltn>200645</tot_popltn>\n",
            "        <polcsttn_nm>마산동부</polcsttn_nm>\n",
            "        <five_main_crmnl_occrrnc_cnt>2039</five_main_crmnl_occrrnc_cnt>\n",
            "        <theft_arrest_cnt>441</theft_arrest_cnt>\n",
            "        <murder_occrrnc_cnt>4</murder_occrrnc_cnt>\n",
            "        <brglr_occrrnc_cnt>1</brglr_occrrnc_cnt>\n",
            "        <violnc_arrest_cnt>1019</violnc_arrest_cnt>\n",
            "        <brglr_arrest_cnt>1</brglr_arrest_cnt>\n",
            "        <murder_arrest_cnt>3</murder_arrest_cnt>\n",
            "        <rape_arrest_cnt>58</rape_arrest_cnt>\n",
            "        <theft_occrrnc_cnt>774</theft_occrrnc_cnt>\n",
            "        <violnc_occrrnc_cnt>1193</violnc_occrrnc_cnt>\n",
            "        <five_main_crmnl_arrest_cnt>1522</five_main_crmnl_arrest_cnt>\n",
            "        <rape_occrrnc_cnr>67</rape_occrrnc_cnr>\n",
            "        <polc_nmpr>368</polc_nmpr>\n",
            "        <skey>4</skey>\n",
            "      </item>\n",
            "      <item>\n",
            "        <yy>2018</yy>\n",
            "        <tot_popltn>345987</tot_popltn>\n",
            "        <polcsttn_nm>진주</polcsttn_nm>\n",
            "        <five_main_crmnl_occrrnc_cnt>3484</five_main_crmnl_occrrnc_cnt>\n",
            "        <theft_arrest_cnt>1106</theft_arrest_cnt>\n",
            "        <murder_occrrnc_cnt>6</murder_occrrnc_cnt>\n",
            "        <brglr_occrrnc_cnt>5</brglr_occrrnc_cnt>\n",
            "        <violnc_arrest_cnt>1407</violnc_arrest_cnt>\n",
            "        <brglr_arrest_cnt>5</brglr_arrest_cnt>\n",
            "        <murder_arrest_cnt>6</murder_arrest_cnt>\n",
            "        <rape_arrest_cnt>100</rape_arrest_cnt>\n",
            "        <theft_occrrnc_cnt>1723</theft_occrrnc_cnt>\n",
            "        <violnc_occrrnc_cnt>1630</violnc_occrrnc_cnt>\n",
            "        <five_main_crmnl_arrest_cnt>2624</five_main_crmnl_arrest_cnt>\n",
            "        <rape_occrrnc_cnr>120</rape_occrrnc_cnr>\n",
            "        <polc_nmpr>521</polc_nmpr>\n",
            "        <skey>5</skey>\n",
            "      </item>\n",
            "      <item>\n",
            "        <yy>2018</yy>\n",
            "        <tot_popltn>306277</tot_popltn>\n",
            "        <polcsttn_nm>김해중부</polcsttn_nm>\n",
            "        <five_main_crmnl_occrrnc_cnt>3876</five_main_crmnl_occrrnc_cnt>\n",
            "        <theft_arrest_cnt>1138</theft_arrest_cnt>\n",
            "        <murder_occrrnc_cnt>6</murder_occrrnc_cnt>\n",
            "        <brglr_occrrnc_cnt>7</brglr_occrrnc_cnt>\n",
            "        <violnc_arrest_cnt>1722</violnc_arrest_cnt>\n",
            "        <brglr_arrest_cnt>7</brglr_arrest_cnt>\n",
            "        <murder_arrest_cnt>5</murder_arrest_cnt>\n",
            "        <rape_arrest_cnt>87</rape_arrest_cnt>\n",
            "        <theft_occrrnc_cnt>1690</theft_occrrnc_cnt>\n",
            "        <violnc_occrrnc_cnt>2061</violnc_occrrnc_cnt>\n",
            "        <five_main_crmnl_arrest_cnt>2959</five_main_crmnl_arrest_cnt>\n",
            "        <rape_occrrnc_cnr>112</rape_occrrnc_cnr>\n",
            "        <polc_nmpr>479</polc_nmpr>\n",
            "        <skey>6</skey>\n",
            "      </item>\n",
            "      <item>\n",
            "        <yy>2018</yy>\n",
            "        <tot_popltn>244843</tot_popltn>\n",
            "        <polcsttn_nm>김해서부</polcsttn_nm>\n",
            "        <five_main_crmnl_occrrnc_cnt>1745</five_main_crmnl_occrrnc_cnt>\n",
            "        <theft_arrest_cnt>475</theft_arrest_cnt>\n",
            "        <murder_occrrnc_cnt>1</murder_occrrnc_cnt>\n",
            "        <brglr_occrrnc_cnt>3</brglr_occrrnc_cnt>\n",
            "        <violnc_arrest_cnt>848</violnc_arrest_cnt>\n",
            "        <brglr_arrest_cnt>3</brglr_arrest_cnt>\n",
            "        <murder_arrest_cnt>1</murder_arrest_cnt>\n",
            "        <rape_arrest_cnt>42</rape_arrest_cnt>\n",
            "        <theft_occrrnc_cnt>710</theft_occrrnc_cnt>\n",
            "        <violnc_occrrnc_cnt>980</violnc_occrrnc_cnt>\n",
            "        <five_main_crmnl_arrest_cnt>1369</five_main_crmnl_arrest_cnt>\n",
            "        <rape_occrrnc_cnr>51</rape_occrrnc_cnr>\n",
            "        <polc_nmpr>304</polc_nmpr>\n",
            "        <skey>7</skey>\n",
            "      </item>\n",
            "      <item>\n",
            "        <yy>2018</yy>\n",
            "        <tot_popltn>348639</tot_popltn>\n",
            "        <polcsttn_nm>양산</polcsttn_nm>\n",
            "        <five_main_crmnl_occrrnc_cnt>2412</five_main_crmnl_occrrnc_cnt>\n",
            "        <theft_arrest_cnt>621</theft_arrest_cnt>\n",
            "        <murder_occrrnc_cnt>5</murder_occrrnc_cnt>\n",
            "        <brglr_occrrnc_cnt>4</brglr_occrrnc_cnt>\n",
            "        <violnc_arrest_cnt>1180</violnc_arrest_cnt>\n",
            "        <brglr_arrest_cnt>4</brglr_arrest_cnt>\n",
            "        <murder_arrest_cnt>5</murder_arrest_cnt>\n",
            "        <rape_arrest_cnt>86</rape_arrest_cnt>\n",
            "        <theft_occrrnc_cnt>988</theft_occrrnc_cnt>\n",
            "        <violnc_occrrnc_cnt>1321</violnc_occrrnc_cnt>\n",
            "        <five_main_crmnl_arrest_cnt>1896</five_main_crmnl_arrest_cnt>\n",
            "        <rape_occrrnc_cnr>94</rape_occrrnc_cnr>\n",
            "        <polc_nmpr>416</polc_nmpr>\n",
            "        <skey>8</skey>\n",
            "      </item>\n",
            "      <item>\n",
            "        <yy>2018</yy>\n",
            "        <tot_popltn>250516</tot_popltn>\n",
            "        <polcsttn_nm>거제</polcsttn_nm>\n",
            "        <five_main_crmnl_occrrnc_cnt>2075</five_main_crmnl_occrrnc_cnt>\n",
            "        <theft_arrest_cnt>423</theft_arrest_cnt>\n",
            "        <murder_occrrnc_cnt>4</murder_occrrnc_cnt>\n",
            "        <brglr_occrrnc_cnt>2</brglr_occrrnc_cnt>\n",
            "        <violnc_arrest_cnt>1042</violnc_arrest_cnt>\n",
            "        <brglr_arrest_cnt>2</brglr_arrest_cnt>\n",
            "        <murder_arrest_cnt>4</murder_arrest_cnt>\n",
            "        <rape_arrest_cnt>100</rape_arrest_cnt>\n",
            "        <theft_occrrnc_cnt>793</theft_occrrnc_cnt>\n",
            "        <violnc_occrrnc_cnt>1156</violnc_occrrnc_cnt>\n",
            "        <five_main_crmnl_arrest_cnt>1571</five_main_crmnl_arrest_cnt>\n",
            "        <rape_occrrnc_cnr>120</rape_occrrnc_cnr>\n",
            "        <polc_nmpr>377</polc_nmpr>\n",
            "        <skey>9</skey>\n",
            "      </item>\n",
            "      <item>\n",
            "        <yy>2018</yy>\n",
            "        <tot_popltn>191982</tot_popltn>\n",
            "        <polcsttn_nm>진해</polcsttn_nm>\n",
            "        <five_main_crmnl_occrrnc_cnt>1380</five_main_crmnl_occrrnc_cnt>\n",
            "        <theft_arrest_cnt>267</theft_arrest_cnt>\n",
            "        <murder_occrrnc_cnt>2</murder_occrrnc_cnt>\n",
            "        <brglr_occrrnc_cnt>1</brglr_occrrnc_cnt>\n",
            "        <violnc_arrest_cnt>834</violnc_arrest_cnt>\n",
            "        <brglr_arrest_cnt>1</brglr_arrest_cnt>\n",
            "        <murder_arrest_cnt>2</murder_arrest_cnt>\n",
            "        <rape_arrest_cnt>37</rape_arrest_cnt>\n",
            "        <theft_occrrnc_cnt>413</theft_occrrnc_cnt>\n",
            "        <violnc_occrrnc_cnt>916</violnc_occrrnc_cnt>\n",
            "        <five_main_crmnl_arrest_cnt>1141</five_main_crmnl_arrest_cnt>\n",
            "        <rape_occrrnc_cnr>48</rape_occrrnc_cnr>\n",
            "        <polc_nmpr>262</polc_nmpr>\n",
            "        <skey>10</skey>\n",
            "      </item>\n",
            "    </items>\n",
            "    <numOfRows>10</numOfRows>\n",
            "    <pageNo>1</pageNo>\n",
            "    <totalCount>69</totalCount>\n",
            "  </body>\n",
            "</response>\n",
            "\n"
          ]
        }
      ],
      "source": [
        "import requests\n",
        "url = 'http://apis.data.go.kr/6480000/gnPolcCntVsCrmnlOccrrncRtNdArrstRtDataService/getgnPolcCntVsCrmnlOccrrncRtNdArrstRtData?serviceKey=4a%2FLE7UXoJie%2FSqW%2Fb2OlesZ2CJFOSffQEXwgQ1lVRUWoecZV3F5uZ14RmfBulCBkYmQRoK3WmdLAigzq6ADCQ%3D%3D&pageNo=1&numOfRows=10&resultType=xml'\n",
        "r = requests.get(url)\n",
        "print(r.text)"
      ]
    },
    {
      "cell_type": "code",
      "source": [
        "from bs4 import BeautifulSoup\n",
        "import requests\n",
        "soup = BeautifulSoup (r.text, features=\"xml\")"
      ],
      "metadata": {
        "id": "YrFDuxcaXm9i"
      },
      "execution_count": null,
      "outputs": []
    },
    {
      "cell_type": "code",
      "source": [
        "soup.find_all ('murder_arrest_cnt')"
      ],
      "metadata": {
        "colab": {
          "base_uri": "https://localhost:8080/"
        },
        "id": "sj5xNiRoX4mz",
        "outputId": "e232e561-61fe-4541-f788-30be9041baf6"
      },
      "execution_count": null,
      "outputs": [
        {
          "output_type": "execute_result",
          "data": {
            "text/plain": [
              "[<murder_arrest_cnt>3</murder_arrest_cnt>,\n",
              " <murder_arrest_cnt>1</murder_arrest_cnt>,\n",
              " <murder_arrest_cnt>12</murder_arrest_cnt>,\n",
              " <murder_arrest_cnt>3</murder_arrest_cnt>,\n",
              " <murder_arrest_cnt>6</murder_arrest_cnt>,\n",
              " <murder_arrest_cnt>5</murder_arrest_cnt>,\n",
              " <murder_arrest_cnt>1</murder_arrest_cnt>,\n",
              " <murder_arrest_cnt>5</murder_arrest_cnt>,\n",
              " <murder_arrest_cnt>4</murder_arrest_cnt>,\n",
              " <murder_arrest_cnt>2</murder_arrest_cnt>]"
            ]
          },
          "metadata": {},
          "execution_count": 4
        }
      ]
    },
    {
      "cell_type": "code",
      "source": [
        "print ('학번=',2403104,'이름=','안서연')"
      ],
      "metadata": {
        "colab": {
          "base_uri": "https://localhost:8080/"
        },
        "id": "5bDV5HO5YA8K",
        "outputId": "3b6c4839-9392-4ed0-d1d3-38adee779ce9"
      },
      "execution_count": null,
      "outputs": [
        {
          "output_type": "stream",
          "name": "stdout",
          "text": [
            "학번= 2403104 이름= 안서연\n"
          ]
        }
      ]
    }
  ]
}