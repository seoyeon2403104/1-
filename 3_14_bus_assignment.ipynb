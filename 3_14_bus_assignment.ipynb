{
  "nbformat": 4,
  "nbformat_minor": 0,
  "metadata": {
    "colab": {
      "provenance": [],
      "authorship_tag": "ABX9TyOi3VjXIxC7qJoda2y43d2d",
      "include_colab_link": true
    },
    "kernelspec": {
      "name": "python3",
      "display_name": "Python 3"
    },
    "language_info": {
      "name": "python"
    }
  },
  "cells": [
    {
      "cell_type": "markdown",
      "metadata": {
        "id": "view-in-github",
        "colab_type": "text"
      },
      "source": [
        "<a href=\"https://colab.research.google.com/github/seoyeon2403104/1-/blob/main/3_14_bus_assignment.ipynb\" target=\"_parent\"><img src=\"https://colab.research.google.com/assets/colab-badge.svg\" alt=\"Open In Colab\"/></a>"
      ]
    },
    {
      "cell_type": "code",
      "execution_count": 21,
      "metadata": {
        "colab": {
          "base_uri": "https://localhost:8080/"
        },
        "id": "5Vh8XjWmEFBj",
        "outputId": "63732145-7078-476f-8699-a5be4838856d"
      },
      "outputs": [
        {
          "output_type": "stream",
          "name": "stdout",
          "text": [
            "<?xml version=\"1.0\" encoding=\"UTF-8\" standalone=\"yes\"?><response><comMsgHeader/><msgHeader><queryTime>2024-03-17 19:50:36.667</queryTime><resultCode>0</resultCode><resultMessage>정상적으로 처리되었습니다.</resultMessage></msgHeader><msgBody><busLocationList><endBus>0</endBus><lowPlate>0</lowPlate><plateNo>경기74사1123</plateNo><plateType>3</plateType><remainSeatCnt>42</remainSeatCnt><routeId>234000050</routeId><stationId>208000069</stationId><stationSeq>44</stationSeq></busLocationList><busLocationList><endBus>0</endBus><lowPlate>0</lowPlate><plateNo>경기74사1061</plateNo><plateType>3</plateType><remainSeatCnt>21</remainSeatCnt><routeId>234000050</routeId><stationId>123000016</stationId><stationSeq>24</stationSeq></busLocationList><busLocationList><endBus>0</endBus><lowPlate>0</lowPlate><plateNo>경기74사1121</plateNo><plateType>3</plateType><remainSeatCnt>34</remainSeatCnt><routeId>234000050</routeId><stationId>209000129</stationId><stationSeq>59</stationSeq></busLocationList><busLocationList><endBus>0</endBus><lowPlate>0</lowPlate><plateNo>경기74사1071</plateNo><plateType>3</plateType><remainSeatCnt>28</remainSeatCnt><routeId>234000050</routeId><stationId>277103157</stationId><stationSeq>31</stationSeq></busLocationList><busLocationList><endBus>0</endBus><lowPlate>0</lowPlate><plateNo>경기74사1069</plateNo><plateType>3</plateType><remainSeatCnt>42</remainSeatCnt><routeId>234000050</routeId><stationId>277103309</stationId><stationSeq>12</stationSeq></busLocationList><busLocationList><endBus>0</endBus><lowPlate>0</lowPlate><plateNo>경기74사1068</plateNo><plateType>3</plateType><remainSeatCnt>38</remainSeatCnt><routeId>234000050</routeId><stationId>277103307</stationId><stationSeq>81</stationSeq></busLocationList><busLocationList><endBus>0</endBus><lowPlate>0</lowPlate><plateNo>경기74사1062</plateNo><plateType>3</plateType><remainSeatCnt>29</remainSeatCnt><routeId>234000050</routeId><stationId>209000020</stationId><stationSeq>34</stationSeq></busLocationList><busLocationList><endBus>0</endBus><lowPlate>0</lowPlate><plateNo>경기74아3175</plateNo><plateType>3</plateType><remainSeatCnt>37</remainSeatCnt><routeId>234000050</routeId><stationId>208000095</stationId><stationSeq>49</stationSeq></busLocationList><busLocationList><endBus>0</endBus><lowPlate>0</lowPlate><plateNo>경기74사1082</plateNo><plateType>3</plateType><remainSeatCnt>35</remainSeatCnt><routeId>234000050</routeId><stationId>123000004</stationId><stationSeq>18</stationSeq></busLocationList><busLocationList><endBus>0</endBus><lowPlate>0</lowPlate><plateNo>경기74사1074</plateNo><plateType>3</plateType><remainSeatCnt>37</remainSeatCnt><routeId>234000050</routeId><stationId>123000007</stationId><stationSeq>72</stationSeq></busLocationList><busLocationList><endBus>0</endBus><lowPlate>0</lowPlate><plateNo>경기74사1124</plateNo><plateType>3</plateType><remainSeatCnt>24</remainSeatCnt><routeId>234000050</routeId><stationId>204000091</stationId><stationSeq>65</stationSeq></busLocationList></msgBody></response>\n"
          ]
        }
      ],
      "source": [
        "import requests\n",
        "url = 'http://openapi.gbis.go.kr/ws/rest/buslocationservice?serviceKey=1234567890&routeId=234000050'\n",
        "r = requests.get(url)\n",
        "print(r.text)"
      ]
    },
    {
      "cell_type": "code",
      "source": [
        "from bs4 import BeautifulSoup\n",
        "import requests\n",
        "soup = BeautifulSoup (r.text, features=\"xml\")\n"
      ],
      "metadata": {
        "id": "1qx1f333_6k0"
      },
      "execution_count": 19,
      "outputs": []
    },
    {
      "cell_type": "code",
      "source": [
        "soup.find_all ('stationId')"
      ],
      "metadata": {
        "id": "8zXmhYf6Axo-",
        "outputId": "22b02b25-2419-42ae-faa8-013f51347c47",
        "colab": {
          "base_uri": "https://localhost:8080/"
        }
      },
      "execution_count": 23,
      "outputs": [
        {
          "output_type": "execute_result",
          "data": {
            "text/plain": [
              "[<stationId>208000069</stationId>,\n",
              " <stationId>123000016</stationId>,\n",
              " <stationId>209000129</stationId>,\n",
              " <stationId>277103157</stationId>,\n",
              " <stationId>277103309</stationId>,\n",
              " <stationId>123000004</stationId>,\n",
              " <stationId>208000095</stationId>,\n",
              " <stationId>209000021</stationId>,\n",
              " <stationId>204000091</stationId>,\n",
              " <stationId>123000009</stationId>,\n",
              " <stationId>277103307</stationId>]"
            ]
          },
          "metadata": {},
          "execution_count": 23
        }
      ]
    },
    {
      "cell_type": "code",
      "source": [
        "print ('학번=',2403104,'이름=','안서연')"
      ],
      "metadata": {
        "id": "QHim3ncrCQeX",
        "outputId": "573e9713-52da-4d93-f340-024691e43245",
        "colab": {
          "base_uri": "https://localhost:8080/"
        }
      },
      "execution_count": 24,
      "outputs": [
        {
          "output_type": "stream",
          "name": "stdout",
          "text": [
            "학번= 2403104 이름= 안서연\n"
          ]
        }
      ]
    }
  ]
}