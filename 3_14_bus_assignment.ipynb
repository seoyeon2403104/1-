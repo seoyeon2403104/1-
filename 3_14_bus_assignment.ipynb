{
  "nbformat": 4,
  "nbformat_minor": 0,
  "metadata": {
    "colab": {
      "provenance": [],
      "authorship_tag": "ABX9TyNFchKpmSQwMKPC1S30HiU+",
      "include_colab_link": true
    },
    "kernelspec": {
      "name": "python3",
      "display_name": "Python 3"
    },
    "language_info": {
      "name": "python"
    }
  },
  "cells": [
    {
      "cell_type": "markdown",
      "metadata": {
        "id": "view-in-github",
        "colab_type": "text"
      },
      "source": [
        "<a href=\"https://colab.research.google.com/github/seoyeon2403104/1-/blob/main/3_14_bus_assignment.ipynb\" target=\"_parent\"><img src=\"https://colab.research.google.com/assets/colab-badge.svg\" alt=\"Open In Colab\"/></a>"
      ]
    },
    {
      "cell_type": "code",
      "execution_count": null,
      "metadata": {
        "colab": {
          "base_uri": "https://localhost:8080/"
        },
        "id": "5Vh8XjWmEFBj",
        "outputId": "8ef0dd4c-ca16-4624-9eac-65c2873c4e89"
      },
      "outputs": [
        {
          "output_type": "stream",
          "name": "stdout",
          "text": [
            "<OpenAPI_ServiceResponse>\n",
            "\t<cmmMsgHeader>\n",
            "\t\t<errMsg>SERVICE ERROR</errMsg>\n",
            "\t\t<returnAuthMsg>SERVICE_KEY_IS_NOT_REGISTERED_ERROR</returnAuthMsg>\n",
            "\t\t<returnReasonCode>30</returnReasonCode>\n",
            "\t</cmmMsgHeader>\n",
            "</OpenAPI_ServiceResponse>\n"
          ]
        }
      ],
      "source": [
        "import requests\n",
        "url = 'http://apis.data.go.kr/6410000/buslocationservice/getBusLocationList'\n",
        "r = requests.get(url)\n",
        "print(r.text)"
      ]
    }
  ]
}