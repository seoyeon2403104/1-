{
  "nbformat": 4,
  "nbformat_minor": 0,
  "metadata": {
    "colab": {
      "provenance": [],
      "authorship_tag": "ABX9TyN1HXz8CK5I+ValL/nl1m9I",
      "include_colab_link": true
    },
    "kernelspec": {
      "name": "python3",
      "display_name": "Python 3"
    },
    "language_info": {
      "name": "python"
    }
  },
  "cells": [
    {
      "cell_type": "markdown",
      "metadata": {
        "id": "view-in-github",
        "colab_type": "text"
      },
      "source": [
        "<a href=\"https://colab.research.google.com/github/seoyeon2403104/1-/blob/main/04_04_assignment2.ipynb\" target=\"_parent\"><img src=\"https://colab.research.google.com/assets/colab-badge.svg\" alt=\"Open In Colab\"/></a>"
      ]
    },
    {
      "cell_type": "code",
      "execution_count": 1,
      "metadata": {
        "colab": {
          "base_uri": "https://localhost:8080/"
        },
        "id": "Qq09ykOlN6tq",
        "outputId": "d066d95b-be31-4de5-ec34-cd4cb52dc4f9"
      },
      "outputs": [
        {
          "output_type": "stream",
          "name": "stdout",
          "text": [
            "Collecting paho-mqtt\n",
            "  Downloading paho_mqtt-2.0.0-py3-none-any.whl (66 kB)\n",
            "\u001b[2K     \u001b[90m━━━━━━━━━━━━━━━━━━━━━━━━━━━━━━━━━━━━━━━━\u001b[0m \u001b[32m66.9/66.9 kB\u001b[0m \u001b[31m1.3 MB/s\u001b[0m eta \u001b[36m0:00:00\u001b[0m\n",
            "\u001b[?25hInstalling collected packages: paho-mqtt\n",
            "Successfully installed paho-mqtt-2.0.0\n"
          ]
        }
      ],
      "source": [
        "!pip install paho-mqtt"
      ]
    },
    {
      "cell_type": "code",
      "source": [
        "import json\n",
        "import requests\n",
        "n=0\n",
        "\n",
        "def doit(topic, payload):\n",
        "  global n\n",
        "  print(topic, payload)\n",
        "  j=json.loads(payload)\n",
        "  #print(j['co2'])\n",
        "  #url='https://api.thingspeak.com/update?api_key=MBXHFKNOS3NTXOGA'\n",
        "  url='https://api.thingspeak.com/update?api_key=YMSWT7ZI9RV2DWIC'\n",
        "  url +='&field1='+j['co2']\n",
        "  url +='&field2='+j['bme680'].split(',')[0]\n",
        "  if n>15:\n",
        "    r=requests.get(url)\n",
        "    print(url, r.text)\n",
        "    n=0\n",
        "  n+=1"
      ],
      "metadata": {
        "id": "vbTtkqfUOAg3"
      },
      "execution_count": 7,
      "outputs": []
    },
    {
      "cell_type": "code",
      "source": [
        "import paho.mqtt.client as mqtt\n",
        "\n",
        "def on_connect(client, userdata, flags, reason_code, properties):\n",
        "    print(f\"Connected with result code {reason_code}\")\n",
        "    client.subscribe(\"connectware/indoor/data/1501\")\n",
        "\n",
        "def on_message(client, userdata, msg):\n",
        "    doit(msg.topic, msg.payload.decode('utf8'))\n",
        "\n",
        "client = mqtt.Client(mqtt.CallbackAPIVersion.VERSION2)\n",
        "client.on_connect = on_connect\n",
        "client.on_message = on_message\n",
        "\n",
        "client.connect(\"damoa.io\", 1883, 60)\n",
        "client.loop_forever()"
      ],
      "metadata": {
        "colab": {
          "base_uri": "https://localhost:8080/"
        },
        "id": "MpVa1GuBOn4Y",
        "outputId": "a9cacfd1-dcd4-4f42-cba8-d4c871ac3d35"
      },
      "execution_count": null,
      "outputs": [
        {
          "output_type": "stream",
          "name": "stdout",
          "text": [
            "Connected with result code Success\n",
            "connectware/indoor/data/1501 {\"dust\":\"25,26\",\"co2\":\"395\",\"bme680\":\"22.62,18.18,1486187,100932,32.77\",\"time\":\"2024-04-07 21:28:07\", \"serial\":280940, \"ip\":\"203.255.190.49\"}\n",
            "connectware/indoor/data/1501 {\"dust\":\"25,28\",\"co2\":\"395\",\"bme680\":\"22.62,18.18,1494444,100932,32.77\",\"time\":\"2024-04-07 21:28:08\", \"serial\":280941, \"ip\":\"203.255.190.49\"}\n",
            "connectware/indoor/data/1501 {\"dust\":\"24,26\",\"co2\":\"395\",\"bme680\":\"22.62,18.18,1487831,100932,32.77\",\"time\":\"2024-04-07 21:28:09\", \"serial\":280942, \"ip\":\"203.255.190.49\"}\n",
            "connectware/indoor/data/1501 {\"dust\":\"26,28\",\"co2\":\"395\",\"bme680\":\"22.62,18.17,1496106,100932,32.77\",\"time\":\"2024-04-07 21:28:10\", \"serial\":280943, \"ip\":\"203.255.190.49\"}\n",
            "connectware/indoor/data/1501 {\"dust\":\"26,29\",\"co2\":\"395\",\"bme680\":\"22.62,18.17,1478022,100932,32.77\",\"time\":\"2024-04-07 21:28:11\", \"serial\":280944, \"ip\":\"203.255.190.49\"}\n",
            "connectware/indoor/data/1501 {\"dust\":\"26,28\",\"co2\":\"395\",\"bme680\":\"22.62,18.17,1489479,100932,32.77\",\"time\":\"2024-04-07 21:28:12\", \"serial\":280945, \"ip\":\"203.255.190.49\"}\n",
            "https://api.thingspeak.com/update?api_key=YMSWT7ZI9RV2DWIC&field1=395&field2=22.62 16\n",
            "connectware/indoor/data/1501 {\"dust\":\"26,27\",\"co2\":\"395\",\"bme680\":\"22.62,18.17,1491130,100932,32.77\",\"time\":\"2024-04-07 21:28:13\", \"serial\":280946, \"ip\":\"203.255.190.49\"}\n",
            "connectware/indoor/data/1501 {\"dust\":\"26,27\",\"co2\":\"395\",\"bme680\":\"22.62,18.18,1489479,100932,32.77\",\"time\":\"2024-04-07 21:28:14\", \"serial\":280947, \"ip\":\"203.255.190.49\"}\n",
            "connectware/indoor/data/1501 {\"dust\":\"26,27\",\"co2\":\"395\",\"bme680\":\"22.62,18.18,1481277,100933,32.77\",\"time\":\"2024-04-07 21:28:15\", \"serial\":280948, \"ip\":\"203.255.190.49\"}\n",
            "connectware/indoor/data/1501 {\"dust\":\"26,29\",\"co2\":\"395\",\"bme680\":\"22.62,18.18,1494444,100932,32.77\",\"time\":\"2024-04-07 21:28:16\", \"serial\":280949, \"ip\":\"203.255.190.49\"}\n",
            "connectware/indoor/data/1501 {\"dust\":\"26,28\",\"co2\":\"395\",\"bme680\":\"22.62,18.17,1484547,100932,32.86\",\"time\":\"2024-04-07 21:28:17\", \"serial\":280950, \"ip\":\"203.255.190.49\"}\n",
            "connectware/indoor/data/1501 {\"dust\":\"29,31\",\"co2\":\"395\",\"bme680\":\"22.62,18.17,1492785,100932,32.77\",\"time\":\"2024-04-07 21:28:18\", \"serial\":280951, \"ip\":\"203.255.190.49\"}\n",
            "connectware/indoor/data/1501 {\"dust\":\"30,32\",\"co2\":\"395\",\"bme680\":\"22.62,18.19,1482910,100932,32.77\",\"time\":\"2024-04-07 21:28:19\", \"serial\":280952, \"ip\":\"203.255.190.49\"}\n",
            "connectware/indoor/data/1501 {\"dust\":\"28,30\",\"co2\":\"395\",\"bme680\":\"22.62,18.18,1489479,100933,32.77\",\"time\":\"2024-04-07 21:28:20\", \"serial\":280953, \"ip\":\"203.255.190.49\"}\n",
            "connectware/indoor/data/1501 {\"dust\":\"28,30\",\"co2\":\"395\",\"bme680\":\"22.62,18.18,1491130,100931,32.77\",\"time\":\"2024-04-07 21:28:21\", \"serial\":280954, \"ip\":\"203.255.190.49\"}\n",
            "connectware/indoor/data/1501 {\"dust\":\"28,31\",\"co2\":\"395\",\"bme680\":\"22.62,18.18,1491130,100932,32.69\",\"time\":\"2024-04-07 21:28:22\", \"serial\":280955, \"ip\":\"203.255.190.49\"}\n",
            "connectware/indoor/data/1501 {\"dust\":\"30,33\",\"co2\":\"395\",\"bme680\":\"22.62,18.17,1484547,100932,32.69\",\"time\":\"2024-04-07 21:28:23\", \"serial\":280956, \"ip\":\"203.255.190.49\"}\n",
            "connectware/indoor/data/1501 {\"dust\":\"30,34\",\"co2\":\"395\",\"bme680\":\"22.62,18.18,1484547,100933,32.69\",\"time\":\"2024-04-07 21:28:24\", \"serial\":280957, \"ip\":\"203.255.190.49\"}\n",
            "connectware/indoor/data/1501 {\"dust\":\"32,37\",\"co2\":\"395\",\"bme680\":\"22.62,18.18,1497772,100932,32.77\",\"time\":\"2024-04-07 21:28:25\", \"serial\":280958, \"ip\":\"203.255.190.49\"}\n",
            "connectware/indoor/data/1501 {\"dust\":\"31,35\",\"co2\":\"395\",\"bme680\":\"22.62,18.18,1484547,100931,32.86\",\"time\":\"2024-04-07 21:28:26\", \"serial\":280959, \"ip\":\"203.255.190.49\"}\n",
            "connectware/indoor/data/1501 {\"dust\":\"30,35\",\"co2\":\"395\",\"bme680\":\"22.62,18.17,1492785,100932,32.77\",\"time\":\"2024-04-07 21:28:27\", \"serial\":280960, \"ip\":\"203.255.190.49\"}\n",
            "connectware/indoor/data/1501 {\"dust\":\"30,34\",\"co2\":\"395\",\"bme680\":\"22.62,18.19,1486187,100933,32.77\",\"time\":\"2024-04-07 21:28:28\", \"serial\":280961, \"ip\":\"203.255.190.49\"}\n",
            "https://api.thingspeak.com/update?api_key=YMSWT7ZI9RV2DWIC&field1=395&field2=22.62 17\n",
            "connectware/indoor/data/1501 {\"dust\":\"31,35\",\"co2\":\"395\",\"bme680\":\"22.62,18.18,1489479,100931,32.86\",\"time\":\"2024-04-07 21:28:29\", \"serial\":280962, \"ip\":\"203.255.190.49\"}\n",
            "connectware/indoor/data/1501 {\"dust\":\"30,34\",\"co2\":\"395\",\"bme680\":\"22.62,18.19,1487831,100931,32.86\",\"time\":\"2024-04-07 21:28:30\", \"serial\":280963, \"ip\":\"203.255.190.49\"}\n",
            "connectware/indoor/data/1501 {\"dust\":\"30,32\",\"co2\":\"395\",\"bme680\":\"22.62,18.18,1492785,100931,32.86\",\"time\":\"2024-04-07 21:28:31\", \"serial\":280964, \"ip\":\"203.255.190.49\"}\n",
            "connectware/indoor/data/1501 {\"dust\":\"28,30\",\"co2\":\"395\",\"bme680\":\"22.62,18.19,1489479,100930,32.94\",\"time\":\"2024-04-07 21:28:32\", \"serial\":280965, \"ip\":\"203.255.190.49\"}\n",
            "connectware/indoor/data/1501 {\"dust\":\"28,30\",\"co2\":\"395\",\"bme680\":\"22.61,18.17,1496106,100931,32.77\",\"time\":\"2024-04-07 21:28:33\", \"serial\":280966, \"ip\":\"203.255.190.49\"}\n",
            "connectware/indoor/data/1501 {\"dust\":\"25,27\",\"co2\":\"395\",\"bme680\":\"22.61,18.18,1486187,100931,32.86\",\"time\":\"2024-04-07 21:28:34\", \"serial\":280967, \"ip\":\"203.255.190.49\"}\n",
            "connectware/indoor/data/1501 {\"dust\":\"25,27\",\"co2\":\"395\",\"bme680\":\"22.61,18.18,1484547,100931,32.86\",\"time\":\"2024-04-07 21:28:35\", \"serial\":280968, \"ip\":\"203.255.190.49\"}\n",
            "connectware/indoor/data/1501 {\"dust\":\"25,26\",\"co2\":\"395\",\"bme680\":\"22.62,18.18,1489479,100931,32.86\",\"time\":\"2024-04-07 21:28:36\", \"serial\":280969, \"ip\":\"203.255.190.49\"}\n",
            "connectware/indoor/data/1501 {\"dust\":\"26,27\",\"co2\":\"395\",\"bme680\":\"22.61,18.19,1482910,100932,32.77\",\"time\":\"2024-04-07 21:28:37\", \"serial\":280970, \"ip\":\"203.255.190.49\"}\n",
            "connectware/indoor/data/1501 {\"dust\":\"24,24\",\"co2\":\"395\",\"bme680\":\"22.61,18.17,1492785,100932,32.69\",\"time\":\"2024-04-07 21:28:38\", \"serial\":280971, \"ip\":\"203.255.190.49\"}\n"
          ]
        }
      ]
    }
  ]
}